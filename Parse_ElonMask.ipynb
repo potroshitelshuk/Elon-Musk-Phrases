{
 "cells": [
  {
   "cell_type": "markdown",
   "metadata": {},
   "source": [
    "Transcript1 - [link](https://www.youtube.com/watch?v=BDIRabVP24o) (ENGLISH SPEECH | ELON MUSK: Think Big & Dream Even Bigger)\n",
    "\n",
    "Transcript2 - [link](https://www.englishspeecheschannel.com/english-speeches/elon-musk-speech/) (Elon Musk Speech: Future, A.I., and Mars)\n",
    "\n",
    "Transcript3 - [link](https://www.youtube.com/watch?v=IgKWPdJWuBQ&t=21s) (Элон Маск: Элон Маск: Человек, создавший Tesla, SpaceX, SolarCity...)\n",
    "\n",
    "Transcript4 - [link](https://www.youtube.com/watch?v=zIwLWfaAg-8) (Elon Musk: The future we're building -- and boring | TED)\n",
    "\n",
    "Transcript5 - [link](https://www.youtube.com/watch?v=H7Uyfqi_TE8) (Making Humans a Multiplanetary Species)"
   ]
  },
  {
   "cell_type": "code",
   "execution_count": 121,
   "metadata": {},
   "outputs": [],
   "source": [
    "from selenium import webdriver\n",
    "from time import sleep\n",
    "import pandas as pd\n",
    "import os"
   ]
  },
  {
   "cell_type": "code",
   "execution_count": 122,
   "metadata": {},
   "outputs": [],
   "source": [
    "def set_sentences(text):\n",
    "    new = ''\n",
    "    for i in range(len(text) - 1):\n",
    "        if text[i] == '.' and text[i + 1] == ' ':\n",
    "            new += '*'\n",
    "        else:\n",
    "            new += text[i]\n",
    "    return new"
   ]
  },
  {
   "cell_type": "code",
   "execution_count": 123,
   "metadata": {},
   "outputs": [],
   "source": [
    "def transform1():\n",
    "    f = open('Data/Data1.txt', 'r')\n",
    "    \n",
    "    text = f.read()\n",
    "    sentences = []\n",
    "    for sentence in text.split('.\\n'):\n",
    "        sentences.append(sentence.strip().replace('\\n', ' '))\n",
    "        \n",
    "    f.close()\n",
    "    \n",
    "    return sentences"
   ]
  },
  {
   "cell_type": "code",
   "execution_count": 124,
   "metadata": {},
   "outputs": [],
   "source": [
    "def parse():\n",
    "    script_dir = os.path.dirname(os.path.realpath('chromedriver'))\n",
    "    webdriver_path = os.path.join(script_dir, 'chromedriver')\n",
    "    web = webdriver.Chrome(webdriver_path)\n",
    "    \n",
    "    link = 'https://www.englishspeecheschannel.com/english-speeches/elon-musk-speech/'\n",
    "    web.get(link)\n",
    "    sleep(5)\n",
    "    \n",
    "    read_more = web.find_element_by_css_selector('#readlink240196857')\n",
    "    read_more.click()\n",
    "    \n",
    "    part1 = []\n",
    "    header = web.find_element_by_css_selector('#qtcontents > div > div.col.s12.m12.l8 > div > div:nth-child(3) > div > div > div > div > div')\n",
    "    for block in header.find_elements_by_css_selector('p')[3:6]: ## part1\n",
    "        part1.append(block.text)\n",
    "\n",
    "    part2 = web.find_element_by_css_selector('#read240196857').text.split('\\n') ## part2\n",
    "    text = part1 + part2\n",
    "\n",
    "    sentences = []\n",
    "    for block in text:\n",
    "        if (block[-1] == '?' and len(block.split('.')) < 10) or (len(block.split('.')) < 6):\n",
    "            continue\n",
    "\n",
    "        block = set_sentences(block)\n",
    "            \n",
    "        for sentence in block.split('*'):\n",
    "            sentences.append(sentence)\n",
    "\n",
    "    sentences = list(filter(lambda x: ' – ' not in x, sentences))\n",
    "    \n",
    "    return sentences\n",
    "\n"
   ]
  },
  {
   "cell_type": "code",
   "execution_count": 125,
   "metadata": {},
   "outputs": [],
   "source": [
    "def transform2(filename):\n",
    "    f = open(filename, 'r')\n",
    "    text = f.read().replace('\\n\\n', ' ').replace('(Laughter)', '').replace('(Applause)', '')\n",
    "    f.close()\n",
    "\n",
    "    first = text.split('EM:')[0]\n",
    "    other = text.split('EM:')[1:]\n",
    "\n",
    "    blocks = []\n",
    "    blocks.append(first.split('Elon Musk:')[1].split('CA:')[0])\n",
    "\n",
    "    for block in other:\n",
    "        blocks.append(block.split('CA:')[0].replace('\\n', ''))\n",
    "\n",
    "\n",
    "    sentences = []\n",
    "    for block in blocks:\n",
    "        \n",
    "        block = set_sentences(block)\n",
    "        for sent in block.split('*'):\n",
    "            sentences.append(sent)\n",
    "            \n",
    "    return sentences"
   ]
  },
  {
   "cell_type": "code",
   "execution_count": 129,
   "metadata": {},
   "outputs": [],
   "source": [
    "def transform3():\n",
    "    f = open('Data/Data4.txt', 'r')\n",
    "\n",
    "    text = f.read().replace('\\n\\n', ' ').replace('(Laughter)', '').replace('[APPLAUSE]', '')\n",
    "    text = text.split('ELON MUSK:')[1]\n",
    "    text = set_sentences(text)\n",
    "    sentences = text.split('*')\n",
    "\n",
    "    f.close()\n",
    "    \n",
    "    return sentences"
   ]
  },
  {
   "cell_type": "code",
   "execution_count": 131,
   "metadata": {},
   "outputs": [],
   "source": [
    "speeches = []\n",
    "speeches += transform1()\n",
    "speeches += transform2('Data/Data2.txt')\n",
    "speeches += transform2('Data/Data3.txt')\n",
    "speeches += transform3()\n",
    "speeches += parse()"
   ]
  },
  {
   "cell_type": "code",
   "execution_count": 133,
   "metadata": {},
   "outputs": [],
   "source": [
    "speeches = list(filter(lambda x: len(x.split(' ')) > 3 and '--' not in x ,speeches))"
   ]
  },
  {
   "cell_type": "code",
   "execution_count": 134,
   "metadata": {},
   "outputs": [],
   "source": [
    "df = pd.DataFrame({'Speech': speeches})\n",
    "df['Speech'] = df['Speech'].apply(lambda x: x.replace('\\\\', ''))\n",
    "df.to_csv('Elon_phrases.csv')"
   ]
  },
  {
   "cell_type": "code",
   "execution_count": 137,
   "metadata": {},
   "outputs": [
    {
     "data": {
      "text/html": [
       "<div>\n",
       "<style scoped>\n",
       "    .dataframe tbody tr th:only-of-type {\n",
       "        vertical-align: middle;\n",
       "    }\n",
       "\n",
       "    .dataframe tbody tr th {\n",
       "        vertical-align: top;\n",
       "    }\n",
       "\n",
       "    .dataframe thead th {\n",
       "        text-align: right;\n",
       "    }\n",
       "</style>\n",
       "<table border=\"1\" class=\"dataframe\">\n",
       "  <thead>\n",
       "    <tr style=\"text-align: right;\">\n",
       "      <th></th>\n",
       "      <th>Speech</th>\n",
       "    </tr>\n",
       "  </thead>\n",
       "  <tbody>\n",
       "    <tr>\n",
       "      <th>0</th>\n",
       "      <td>I’d like to thank you for leaving ‘crazy perso...</td>\n",
       "    </tr>\n",
       "    <tr>\n",
       "      <th>1</th>\n",
       "      <td>So, I thought — I was trying to think what’s t...</td>\n",
       "    </tr>\n",
       "    <tr>\n",
       "      <th>2</th>\n",
       "      <td>And I thought, perhaps tell the story of how I...</td>\n",
       "    </tr>\n",
       "    <tr>\n",
       "      <th>3</th>\n",
       "      <td>How did these things happen?  And maybe there ...</td>\n",
       "    </tr>\n",
       "    <tr>\n",
       "      <th>4</th>\n",
       "      <td>I often find myself wondering, how did this ha...</td>\n",
       "    </tr>\n",
       "  </tbody>\n",
       "</table>\n",
       "</div>"
      ],
      "text/plain": [
       "                                              Speech\n",
       "0  I’d like to thank you for leaving ‘crazy perso...\n",
       "1  So, I thought — I was trying to think what’s t...\n",
       "2  And I thought, perhaps tell the story of how I...\n",
       "3  How did these things happen?  And maybe there ...\n",
       "4  I often find myself wondering, how did this ha..."
      ]
     },
     "execution_count": 137,
     "metadata": {},
     "output_type": "execute_result"
    }
   ],
   "source": [
    "df.head()"
   ]
  },
  {
   "cell_type": "code",
   "execution_count": null,
   "metadata": {},
   "outputs": [],
   "source": []
  }
 ],
 "metadata": {
  "kernelspec": {
   "display_name": "Python 3",
   "language": "python",
   "name": "python3"
  },
  "language_info": {
   "codemirror_mode": {
    "name": "ipython",
    "version": 3
   },
   "file_extension": ".py",
   "mimetype": "text/x-python",
   "name": "python",
   "nbconvert_exporter": "python",
   "pygments_lexer": "ipython3",
   "version": "3.7.3"
  }
 },
 "nbformat": 4,
 "nbformat_minor": 2
}
